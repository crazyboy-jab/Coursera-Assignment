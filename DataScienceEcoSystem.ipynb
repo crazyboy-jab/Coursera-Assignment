{
 "cells": [
  {
   "cell_type": "markdown",
   "id": "d96b1bbf",
   "metadata": {},
   "source": [
    "# Data Science Tools and Ecosystem"
   ]
  },
  {
   "cell_type": "markdown",
   "id": "35bf57bb",
   "metadata": {},
   "source": [
    "In this notebook, Data Science tools and ecosystem are summarised"
   ]
  },
  {
   "cell_type": "markdown",
   "id": "0820bbdc",
   "metadata": {},
   "source": [
    "**Objectives:**\n",
    "- List popular languages for Data Science\n",
    " - List commonly used libraries by Data Scientists\n",
    "- Some of the tools used by data scientists\n",
    "- Arithemetic Operations"
   ]
  },
  {
   "cell_type": "markdown",
   "id": "fa7ec345",
   "metadata": {},
   "source": [
    "Some of the popular languages Data Scientists use are\n",
    "\n",
    "1. Python\n",
    "2. R\n",
    "3. SQL\n",
    "4. Julia"
   ]
  },
  {
   "cell_type": "markdown",
   "id": "8a269f2e",
   "metadata": {},
   "source": [
    "Some of the commonly used libraries by Data Scientists inclde\n",
    "1. Pandas\n",
    "2. NumPy\n",
    "3. MatPlotlib\n",
    "4. TensorFlow\n"
   ]
  },
  {
   "cell_type": "markdown",
   "id": "dc640721",
   "metadata": {},
   "source": [
    "|Data Science Tools|\n",
    "|----|\n",
    "|JupyterNotebook|\n",
    "|RStudio|\n",
    "|Appache Zeppelin|"
   ]
  },
  {
   "cell_type": "markdown",
   "id": "53c2e0ea",
   "metadata": {},
   "source": [
    "### Below are a few Examples of  Evaluating arithmetic expressions in python"
   ]
  },
  {
   "cell_type": "code",
   "execution_count": 2,
   "id": "e920b350",
   "metadata": {},
   "outputs": [
    {
     "data": {
      "text/plain": [
       "17"
      ]
     },
     "execution_count": 2,
     "metadata": {},
     "output_type": "execute_result"
    }
   ],
   "source": [
    "# This is a simple arithmetic expression to multiply then add\n",
    "(3*4)+5"
   ]
  },
  {
   "cell_type": "code",
   "execution_count": 3,
   "id": "78cd4144",
   "metadata": {},
   "outputs": [
    {
     "data": {
      "text/plain": [
       "3.3333333333333335"
      ]
     },
     "execution_count": 3,
     "metadata": {},
     "output_type": "execute_result"
    }
   ],
   "source": [
    "# this will convert 200 minutes to hours by dividing by 60\n",
    "hours=200/60\n",
    "hours"
   ]
  },
  {
   "cell_type": "markdown",
   "id": "67903837",
   "metadata": {},
   "source": [
    "## Author\n",
    "Bajil Ihsan P"
   ]
  },
  {
   "cell_type": "code",
   "execution_count": null,
   "id": "76a04f9b",
   "metadata": {},
   "outputs": [],
   "source": []
  }
 ],
 "metadata": {
  "kernelspec": {
   "display_name": "Python 3 (ipykernel)",
   "language": "python",
   "name": "python3"
  },
  "language_info": {
   "codemirror_mode": {
    "name": "ipython",
    "version": 3
   },
   "file_extension": ".py",
   "mimetype": "text/x-python",
   "name": "python",
   "nbconvert_exporter": "python",
   "pygments_lexer": "ipython3",
   "version": "3.10.9"
  }
 },
 "nbformat": 4,
 "nbformat_minor": 5
}
